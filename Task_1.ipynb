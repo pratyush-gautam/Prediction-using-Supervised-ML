{
  "nbformat": 4,
  "nbformat_minor": 0,
  "metadata": {
    "kernelspec": {
      "display_name": "Python 3",
      "language": "python",
      "name": "python3"
    },
    "language_info": {
      "codemirror_mode": {
        "name": "ipython",
        "version": 3
      },
      "file_extension": ".py",
      "mimetype": "text/x-python",
      "name": "python",
      "nbconvert_exporter": "python",
      "pygments_lexer": "ipython3",
      "version": "3.8.3"
    },
    "colab": {
      "name": "Task-1.ipynb",
      "provenance": [],
      "collapsed_sections": [],
      "include_colab_link": true
    }
  },
  "cells": [
    {
      "cell_type": "markdown",
      "metadata": {
        "id": "view-in-github",
        "colab_type": "text"
      },
      "source": [
        "<a href=\"https://colab.research.google.com/github/pratyush-gautam/Prediction-using-Supervised-ML/blob/main/Task_1.ipynb\" target=\"_parent\"><img src=\"https://colab.research.google.com/assets/colab-badge.svg\" alt=\"Open In Colab\"/></a>"
      ]
    },
    {
      "cell_type": "markdown",
      "metadata": {
        "id": "fqfQletIaXtD"
      },
      "source": [
        "<h2 style=\"color:Blue\">GRIP : The Sparks Foundation</h2>"
      ]
    },
    {
      "cell_type": "markdown",
      "metadata": {
        "id": "zUhVY6E9aXtI"
      },
      "source": [
        "<h3>Data Science And Business Analysis under Graduate Rotational Internship Program of June 2021</h3>"
      ]
    },
    {
      "cell_type": "markdown",
      "metadata": {
        "id": "B2Qp4G7zaXtI"
      },
      "source": [
        "<h4>Author : Pratyush Gautam</h4>"
      ]
    },
    {
      "cell_type": "markdown",
      "metadata": {
        "id": "c2lXUXIOaXtJ"
      },
      "source": [
        "<h3>Task 1: Prediction using Supervised ML</h3>"
      ]
    },
    {
      "cell_type": "markdown",
      "metadata": {
        "id": "oVPe5QcRaXtK"
      },
      "source": [
        "<h4>Description : This is a simple linear regression task as it involves just 2 variables. I have to predict the percentage of an student based on the no. of study hours.</h4>"
      ]
    },
    {
      "cell_type": "markdown",
      "metadata": {
        "id": "sF9y7_i8aXtK"
      },
      "source": [
        "<h2 style=\"color:red\">Step 1 : Import The Dataset</h2>"
      ]
    },
    {
      "cell_type": "code",
      "metadata": {
        "id": "2pKxOFREaXtK"
      },
      "source": [
        "#importing require libraries\n",
        "import pandas as pd\n",
        "import numpy as np\n",
        "import matplotlib.pyplot as plt\n",
        "import seaborn as sns\n",
        "from sklearn.linear_model import LinearRegression\n",
        "from sklearn.model_selection import train_test_split"
      ],
      "execution_count": null,
      "outputs": []
    },
    {
      "cell_type": "markdown",
      "metadata": {
        "id": "o1HSvoqNaXtL"
      },
      "source": [
        "### Read Data From Dataset"
      ]
    },
    {
      "cell_type": "code",
      "metadata": {
        "id": "aqIc1ry6aXtM"
      },
      "source": [
        "url = \"http://bit.ly/w-data\"\n",
        "Student_data = pd.read_csv(url)"
      ],
      "execution_count": null,
      "outputs": []
    },
    {
      "cell_type": "markdown",
      "metadata": {
        "id": "Q8y69YZ1aXtM"
      },
      "source": [
        "### Explore The Data"
      ]
    },
    {
      "cell_type": "code",
      "metadata": {
        "id": "Q-j_9ehDaXtN",
        "colab": {
          "base_uri": "https://localhost:8080/",
          "height": 220
        },
        "outputId": "10cf2330-56fe-4dda-afd3-7774d064c664"
      },
      "source": [
        "# Check the shape of the dataset\n",
        "print(Student_data.shape)\n",
        "Student_data.head()"
      ],
      "execution_count": null,
      "outputs": [
        {
          "output_type": "stream",
          "text": [
            "(25, 2)\n"
          ],
          "name": "stdout"
        },
        {
          "output_type": "execute_result",
          "data": {
            "text/html": [
              "<div>\n",
              "<style scoped>\n",
              "    .dataframe tbody tr th:only-of-type {\n",
              "        vertical-align: middle;\n",
              "    }\n",
              "\n",
              "    .dataframe tbody tr th {\n",
              "        vertical-align: top;\n",
              "    }\n",
              "\n",
              "    .dataframe thead th {\n",
              "        text-align: right;\n",
              "    }\n",
              "</style>\n",
              "<table border=\"1\" class=\"dataframe\">\n",
              "  <thead>\n",
              "    <tr style=\"text-align: right;\">\n",
              "      <th></th>\n",
              "      <th>Hours</th>\n",
              "      <th>Scores</th>\n",
              "    </tr>\n",
              "  </thead>\n",
              "  <tbody>\n",
              "    <tr>\n",
              "      <th>0</th>\n",
              "      <td>2.5</td>\n",
              "      <td>21</td>\n",
              "    </tr>\n",
              "    <tr>\n",
              "      <th>1</th>\n",
              "      <td>5.1</td>\n",
              "      <td>47</td>\n",
              "    </tr>\n",
              "    <tr>\n",
              "      <th>2</th>\n",
              "      <td>3.2</td>\n",
              "      <td>27</td>\n",
              "    </tr>\n",
              "    <tr>\n",
              "      <th>3</th>\n",
              "      <td>8.5</td>\n",
              "      <td>75</td>\n",
              "    </tr>\n",
              "    <tr>\n",
              "      <th>4</th>\n",
              "      <td>3.5</td>\n",
              "      <td>30</td>\n",
              "    </tr>\n",
              "  </tbody>\n",
              "</table>\n",
              "</div>"
            ],
            "text/plain": [
              "   Hours  Scores\n",
              "0    2.5      21\n",
              "1    5.1      47\n",
              "2    3.2      27\n",
              "3    8.5      75\n",
              "4    3.5      30"
            ]
          },
          "metadata": {
            "tags": []
          },
          "execution_count": 3
        }
      ]
    },
    {
      "cell_type": "code",
      "metadata": {
        "id": "p7ZFOnuXaXtO",
        "colab": {
          "base_uri": "https://localhost:8080/",
          "height": 295
        },
        "outputId": "b5608751-ecdc-4119-88c9-53b1c16e99f8"
      },
      "source": [
        "Student_data.describe()"
      ],
      "execution_count": null,
      "outputs": [
        {
          "output_type": "execute_result",
          "data": {
            "text/html": [
              "<div>\n",
              "<style scoped>\n",
              "    .dataframe tbody tr th:only-of-type {\n",
              "        vertical-align: middle;\n",
              "    }\n",
              "\n",
              "    .dataframe tbody tr th {\n",
              "        vertical-align: top;\n",
              "    }\n",
              "\n",
              "    .dataframe thead th {\n",
              "        text-align: right;\n",
              "    }\n",
              "</style>\n",
              "<table border=\"1\" class=\"dataframe\">\n",
              "  <thead>\n",
              "    <tr style=\"text-align: right;\">\n",
              "      <th></th>\n",
              "      <th>Hours</th>\n",
              "      <th>Scores</th>\n",
              "    </tr>\n",
              "  </thead>\n",
              "  <tbody>\n",
              "    <tr>\n",
              "      <th>count</th>\n",
              "      <td>25.000000</td>\n",
              "      <td>25.000000</td>\n",
              "    </tr>\n",
              "    <tr>\n",
              "      <th>mean</th>\n",
              "      <td>5.012000</td>\n",
              "      <td>51.480000</td>\n",
              "    </tr>\n",
              "    <tr>\n",
              "      <th>std</th>\n",
              "      <td>2.525094</td>\n",
              "      <td>25.286887</td>\n",
              "    </tr>\n",
              "    <tr>\n",
              "      <th>min</th>\n",
              "      <td>1.100000</td>\n",
              "      <td>17.000000</td>\n",
              "    </tr>\n",
              "    <tr>\n",
              "      <th>25%</th>\n",
              "      <td>2.700000</td>\n",
              "      <td>30.000000</td>\n",
              "    </tr>\n",
              "    <tr>\n",
              "      <th>50%</th>\n",
              "      <td>4.800000</td>\n",
              "      <td>47.000000</td>\n",
              "    </tr>\n",
              "    <tr>\n",
              "      <th>75%</th>\n",
              "      <td>7.400000</td>\n",
              "      <td>75.000000</td>\n",
              "    </tr>\n",
              "    <tr>\n",
              "      <th>max</th>\n",
              "      <td>9.200000</td>\n",
              "      <td>95.000000</td>\n",
              "    </tr>\n",
              "  </tbody>\n",
              "</table>\n",
              "</div>"
            ],
            "text/plain": [
              "           Hours     Scores\n",
              "count  25.000000  25.000000\n",
              "mean    5.012000  51.480000\n",
              "std     2.525094  25.286887\n",
              "min     1.100000  17.000000\n",
              "25%     2.700000  30.000000\n",
              "50%     4.800000  47.000000\n",
              "75%     7.400000  75.000000\n",
              "max     9.200000  95.000000"
            ]
          },
          "metadata": {
            "tags": []
          },
          "execution_count": 4
        }
      ]
    },
    {
      "cell_type": "code",
      "metadata": {
        "id": "cWjzWsrkaXtO",
        "colab": {
          "base_uri": "https://localhost:8080/"
        },
        "outputId": "c2cd6291-5973-46a9-c195-b472e9010b53"
      },
      "source": [
        "Student_data.dtypes"
      ],
      "execution_count": null,
      "outputs": [
        {
          "output_type": "execute_result",
          "data": {
            "text/plain": [
              "Hours     float64\n",
              "Scores      int64\n",
              "dtype: object"
            ]
          },
          "metadata": {
            "tags": []
          },
          "execution_count": 5
        }
      ]
    },
    {
      "cell_type": "code",
      "metadata": {
        "id": "UDvOILMBaXtP",
        "colab": {
          "base_uri": "https://localhost:8080/"
        },
        "outputId": "3f033292-7fba-4131-ac84-dccde111518d"
      },
      "source": [
        "Student_data.info()"
      ],
      "execution_count": null,
      "outputs": [
        {
          "output_type": "stream",
          "text": [
            "<class 'pandas.core.frame.DataFrame'>\n",
            "RangeIndex: 25 entries, 0 to 24\n",
            "Data columns (total 2 columns):\n",
            " #   Column  Non-Null Count  Dtype  \n",
            "---  ------  --------------  -----  \n",
            " 0   Hours   25 non-null     float64\n",
            " 1   Scores  25 non-null     int64  \n",
            "dtypes: float64(1), int64(1)\n",
            "memory usage: 528.0 bytes\n"
          ],
          "name": "stdout"
        }
      ]
    },
    {
      "cell_type": "code",
      "metadata": {
        "id": "gEvn33ElaXtP",
        "colab": {
          "base_uri": "https://localhost:8080/"
        },
        "outputId": "cea8781d-ff9e-4254-e98f-638733f8f01c"
      },
      "source": [
        "# Check missing value \n",
        "Student_data.isnull().sum() "
      ],
      "execution_count": null,
      "outputs": [
        {
          "output_type": "execute_result",
          "data": {
            "text/plain": [
              "Hours     0\n",
              "Scores    0\n",
              "dtype: int64"
            ]
          },
          "metadata": {
            "tags": []
          },
          "execution_count": 7
        }
      ]
    },
    {
      "cell_type": "markdown",
      "metadata": {
        "id": "k3nEqr7HaXtQ"
      },
      "source": [
        "##### There is no mising value in the dataset"
      ]
    },
    {
      "cell_type": "markdown",
      "metadata": {
        "id": "y3WuZw_kaXtQ"
      },
      "source": [
        "<h2 style=\"color:red\">Step 2: Visualizing The Dataset</h2>"
      ]
    },
    {
      "cell_type": "code",
      "metadata": {
        "id": "hLULZfdgaXtR",
        "colab": {
          "base_uri": "https://localhost:8080/",
          "height": 350
        },
        "outputId": "580475e7-d5b9-4947-9019-02c91d541805"
      },
      "source": [
        "Student_data.plot(x='Hours',y='Scores',style=\".\",color=\"darkred\",figsize=(10,5))\n",
        "plt.title(' Hours ---> Scores')\n",
        "plt.xlabel('No. Hours Studied')\n",
        "plt.ylabel('Percentage Scores')\n",
        "plt.grid()\n",
        "plt.show()"
      ],
      "execution_count": null,
      "outputs": [
        {
          "output_type": "display_data",
          "data": {
            "image/png": "[encoded data removed]",
            "text/plain": [
              "<Figure size 720x360 with 1 Axes>"
            ]
          },
          "metadata": {
            "tags": [],
            "needs_background": "light"
          }
        }
      ]
    },
    {
      "cell_type": "code",
      "metadata": {
        "id": "RyIYU36daXtR",
        "colab": {
          "base_uri": "https://localhost:8080/",
          "height": 110
        },
        "outputId": "f9dc7fb7-54a9-40d7-d87a-71baaf0c8ed0"
      },
      "source": [
        "# Check the correlation between Hours and Scores\n",
        "Student_data.corr()"
      ],
      "execution_count": null,
      "outputs": [
        {
          "output_type": "execute_result",
          "data": {
            "text/html": [
              "<div>\n",
              "<style scoped>\n",
              "    .dataframe tbody tr th:only-of-type {\n",
              "        vertical-align: middle;\n",
              "    }\n",
              "\n",
              "    .dataframe tbody tr th {\n",
              "        vertical-align: top;\n",
              "    }\n",
              "\n",
              "    .dataframe thead th {\n",
              "        text-align: right;\n",
              "    }\n",
              "</style>\n",
              "<table border=\"1\" class=\"dataframe\">\n",
              "  <thead>\n",
              "    <tr style=\"text-align: right;\">\n",
              "      <th></th>\n",
              "      <th>Hours</th>\n",
              "      <th>Scores</th>\n",
              "    </tr>\n",
              "  </thead>\n",
              "  <tbody>\n",
              "    <tr>\n",
              "      <th>Hours</th>\n",
              "      <td>1.000000</td>\n",
              "      <td>0.976191</td>\n",
              "    </tr>\n",
              "    <tr>\n",
              "      <th>Scores</th>\n",
              "      <td>0.976191</td>\n",
              "      <td>1.000000</td>\n",
              "    </tr>\n",
              "  </tbody>\n",
              "</table>\n",
              "</div>"
            ],
            "text/plain": [
              "           Hours    Scores\n",
              "Hours   1.000000  0.976191\n",
              "Scores  0.976191  1.000000"
            ]
          },
          "metadata": {
            "tags": []
          },
          "execution_count": 9
        }
      ]
    },
    {
      "cell_type": "markdown",
      "metadata": {
        "id": "lJn6B8FfaXtS"
      },
      "source": [
        "#### This shows the positive correlation between Hours and Scores"
      ]
    },
    {
      "cell_type": "markdown",
      "metadata": {
        "id": "cDrp0ddVaXtS"
      },
      "source": [
        "<h2 style=\"color:red\">Step 3: Data Preparation</h2>"
      ]
    },
    {
      "cell_type": "code",
      "metadata": {
        "id": "syfi0eJ9aXtS"
      },
      "source": [
        "#divide the data by iloc function\n",
        "X = Student_data.iloc[:,:1].values\n",
        "Y =  Student_data.iloc[:,1:].values"
      ],
      "execution_count": null,
      "outputs": []
    },
    {
      "cell_type": "code",
      "metadata": {
        "id": "t1ahI4j5aXtT",
        "colab": {
          "base_uri": "https://localhost:8080/"
        },
        "outputId": "2d95bc4f-ef38-419f-f8d7-9ad190ebee61"
      },
      "source": [
        "X"
      ],
      "execution_count": null,
      "outputs": [
        {
          "output_type": "execute_result",
          "data": {
            "text/plain": [
              "array([[2.5],\n",
              "       [5.1],\n",
              "       [3.2],\n",
              "       [8.5],\n",
              "       [3.5],\n",
              "       [1.5],\n",
              "       [9.2],\n",
              "       [5.5],\n",
              "       [8.3],\n",
              "       [2.7],\n",
              "       [7.7],\n",
              "       [5.9],\n",
              "       [4.5],\n",
              "       [3.3],\n",
              "       [1.1],\n",
              "       [8.9],\n",
              "       [2.5],\n",
              "       [1.9],\n",
              "       [6.1],\n",
              "       [7.4],\n",
              "       [2.7],\n",
              "       [4.8],\n",
              "       [3.8],\n",
              "       [6.9],\n",
              "       [7.8]])"
            ]
          },
          "metadata": {
            "tags": []
          },
          "execution_count": 11
        }
      ]
    },
    {
      "cell_type": "code",
      "metadata": {
        "id": "r10ckg89aXtT",
        "colab": {
          "base_uri": "https://localhost:8080/"
        },
        "outputId": "a30615c1-53f2-4c39-819f-98507ded686d"
      },
      "source": [
        "Y"
      ],
      "execution_count": null,
      "outputs": [
        {
          "output_type": "execute_result",
          "data": {
            "text/plain": [
              "array([[21],\n",
              "       [47],\n",
              "       [27],\n",
              "       [75],\n",
              "       [30],\n",
              "       [20],\n",
              "       [88],\n",
              "       [60],\n",
              "       [81],\n",
              "       [25],\n",
              "       [85],\n",
              "       [62],\n",
              "       [41],\n",
              "       [42],\n",
              "       [17],\n",
              "       [95],\n",
              "       [30],\n",
              "       [24],\n",
              "       [67],\n",
              "       [69],\n",
              "       [30],\n",
              "       [54],\n",
              "       [35],\n",
              "       [76],\n",
              "       [86]])"
            ]
          },
          "metadata": {
            "tags": []
          },
          "execution_count": 12
        }
      ]
    },
    {
      "cell_type": "code",
      "metadata": {
        "id": "CD-vkk8jaXtU"
      },
      "source": [
        "#split the data into training and split the data\n",
        "X_train,X_test,Y_train,Y_test = train_test_split(X,Y,test_size=0.2,random_state=0)"
      ],
      "execution_count": null,
      "outputs": []
    },
    {
      "cell_type": "markdown",
      "metadata": {
        "id": "FNkUZ_38aXtU"
      },
      "source": [
        "<h2 style=\"color:red\">Step 4: Apply : Simple Linear Algorithm</h2>"
      ]
    },
    {
      "cell_type": "code",
      "metadata": {
        "id": "TpOmDekEaXtV",
        "colab": {
          "base_uri": "https://localhost:8080/"
        },
        "outputId": "0f3aede7-1d48-4343-fc70-4fbae248f2b6"
      },
      "source": [
        "#create linear regression instance\n",
        "reg_model = LinearRegression()\n",
        "reg_model.fit(X_train,Y_train)"
      ],
      "execution_count": null,
      "outputs": [
        {
          "output_type": "execute_result",
          "data": {
            "text/plain": [
              "LinearRegression(copy_X=True, fit_intercept=True, n_jobs=None, normalize=False)"
            ]
          },
          "metadata": {
            "tags": []
          },
          "execution_count": 14
        }
      ]
    },
    {
      "cell_type": "code",
      "metadata": {
        "id": "8hByNWdKaXtV",
        "colab": {
          "base_uri": "https://localhost:8080/"
        },
        "outputId": "20948df3-b3f9-4085-91d5-87a8a2e5c5c6"
      },
      "source": [
        "#find the equation of the fit line\n",
        "\n",
        "# find the slop\n",
        "Slop = reg_model.coef_\n",
        "\n",
        "# find the intercept\n",
        "Intercept = reg_model.intercept_\n",
        "\n",
        "print(\"Slop of the fit line is : \",float(Slop))\n",
        "\n",
        "print(\"Intercept of the fit line is : \",float(Intercept))"
      ],
      "execution_count": null,
      "outputs": [
        {
          "output_type": "stream",
          "text": [
            "Slop of the fit line is :  9.91065648064224\n",
            "Intercept of the fit line is :  2.018160041434662\n"
          ],
          "name": "stdout"
        }
      ]
    },
    {
      "cell_type": "code",
      "metadata": {
        "id": "jXNsuTtqaXtV",
        "colab": {
          "base_uri": "https://localhost:8080/"
        },
        "outputId": "ed4604c6-7679-491f-ad47-cb313fbe2f22"
      },
      "source": [
        "# Equation is\n",
        "print(\" Y = {:.4f} * X + {:.4f} \".format(float(Slop),float(Intercept)))"
      ],
      "execution_count": null,
      "outputs": [
        {
          "output_type": "stream",
          "text": [
            " Y = 9.9107 * X + 2.0182 \n"
          ],
          "name": "stdout"
        }
      ]
    },
    {
      "cell_type": "markdown",
      "metadata": {
        "id": "YLIE_qDDaXtW"
      },
      "source": [
        "<h2 style=\"color:red\">Step 5: Visualizing The Model</h2>"
      ]
    },
    {
      "cell_type": "code",
      "metadata": {
        "id": "YmdRT6wsaXtW",
        "colab": {
          "base_uri": "https://localhost:8080/",
          "height": 343
        },
        "outputId": "c687a48e-0ef9-49ee-fe6e-3499156d1ef6"
      },
      "source": [
        "#ploting for the traing data\n",
        "\n",
        "line = Slop * X + Intercept\n",
        "plt.rcParams[\"figure.figsize\"]=[10,5]\n",
        "plt.scatter(X_train,Y_train,color=\"darkred\")\n",
        "plt.plot(X,line,color=\"green\")\n",
        "plt.xlabel('Hours Studied',fontsize=20)\n",
        "plt.ylabel('Scores in percentage',fontsize=20)\n",
        "plt.grid()\n",
        "plt.show()"
      ],
      "execution_count": null,
      "outputs": [
        {
          "output_type": "display_data",
          "data": {
            "image/png": "[encoded data removed]",
            "text/plain": [
              "<Figure size 720x360 with 1 Axes>"
            ]
          },
          "metadata": {
            "tags": [],
            "needs_background": "light"
          }
        }
      ]
    },
    {
      "cell_type": "markdown",
      "metadata": {
        "id": "F3hePQXcaXtW"
      },
      "source": [
        "<h2 style=\"color:red\">Step 6: Making Prediction</h2>"
      ]
    },
    {
      "cell_type": "code",
      "metadata": {
        "id": "ERbgl8ecaXtX",
        "colab": {
          "base_uri": "https://localhost:8080/"
        },
        "outputId": "763ca555-16fd-4698-fdbb-3a4dc061fe2a"
      },
      "source": [
        "#Testing Data\n",
        "print(X_test)\n",
        "#Predicted Scores\n",
        "Y_pred = reg_model.predict(X_test)"
      ],
      "execution_count": null,
      "outputs": [
        {
          "output_type": "stream",
          "text": [
            "[[1.5]\n",
            " [3.2]\n",
            " [7.4]\n",
            " [2.5]\n",
            " [5.9]]\n"
          ],
          "name": "stdout"
        }
      ]
    },
    {
      "cell_type": "code",
      "metadata": {
        "id": "7U9VvR_PaXtX",
        "colab": {
          "base_uri": "https://localhost:8080/"
        },
        "outputId": "9c76aadc-6c20-42ac-9929-eccefee6aac3"
      },
      "source": [
        "#Compair Actual and Predicted\n",
        "print(f\"Acutal :\\n {Y_test}\",end=\"\\n\")\n",
        "print(f\"Predict :\\n {Y_pred}\")"
      ],
      "execution_count": null,
      "outputs": [
        {
          "output_type": "stream",
          "text": [
            "Acutal :\n",
            " [[20]\n",
            " [27]\n",
            " [69]\n",
            " [30]\n",
            " [62]]\n",
            "Predict :\n",
            " [[16.88414476]\n",
            " [33.73226078]\n",
            " [75.357018  ]\n",
            " [26.79480124]\n",
            " [60.49103328]]\n"
          ],
          "name": "stdout"
        }
      ]
    },
    {
      "cell_type": "markdown",
      "metadata": {
        "id": "uGossnLAaXtX"
      },
      "source": [
        "<h3>Predict The Score for 9.25 Hours/Day</h3>"
      ]
    },
    {
      "cell_type": "code",
      "metadata": {
        "id": "_vvS_A9vaXtY"
      },
      "source": [
        "X = 9.25\n",
        "predicted_score = reg_model.predict([[X]])"
      ],
      "execution_count": null,
      "outputs": []
    },
    {
      "cell_type": "code",
      "metadata": {
        "id": "GH3GjsjlaXtY",
        "colab": {
          "base_uri": "https://localhost:8080/"
        },
        "outputId": "7dbba70b-87a8-48c1-ae38-4e250897ee10"
      },
      "source": [
        "print(float(predicted_score))"
      ],
      "execution_count": null,
      "outputs": [
        {
          "output_type": "stream",
          "text": [
            "93.69173248737539\n"
          ],
          "name": "stdout"
        }
      ]
    },
    {
      "cell_type": "markdown",
      "metadata": {
        "id": "MoYuHqT9aXtY"
      },
      "source": [
        "<h2>Predicted Score For 9.25 Hours/Day is : <b>93.6917324%</b></h2> "
      ]
    },
    {
      "cell_type": "markdown",
      "metadata": {
        "id": "TUEz9vG4aXtY"
      },
      "source": [
        "<h2 style=\"color:red\">Step 7: Evaluating The Data</h2>"
      ]
    },
    {
      "cell_type": "code",
      "metadata": {
        "id": "2HtyxTWWaXtZ",
        "colab": {
          "base_uri": "https://localhost:8080/"
        },
        "outputId": "c7b43945-ab9e-4dae-ecad-6164b7569a60"
      },
      "source": [
        "#find mean absolute and squared error\n",
        "from sklearn import metrics\n",
        "print(f\"Mean Absolute Error is : {metrics.mean_absolute_error(Y_test,Y_pred)}\")\n",
        "print(f\"Mean Squared Error is : {metrics.mean_squared_error(Y_test,Y_pred)}\")"
      ],
      "execution_count": null,
      "outputs": [
        {
          "output_type": "stream",
          "text": [
            "Mean Absolute Error is : 4.183859899002982\n",
            "Mean Squared Error is : 21.598769307217456\n"
          ],
          "name": "stdout"
        }
      ]
    }
  ]
}